{
  "nbformat": 4,
  "nbformat_minor": 0,
  "metadata": {
    "colab": {
      "name": "Untitled0.ipynb",
      "version": "0.3.2",
      "provenance": [],
      "include_colab_link": true
    },
    "kernelspec": {
      "name": "python3",
      "display_name": "Python 3"
    }
  },
  "cells": [
    {
      "cell_type": "markdown",
      "metadata": {
        "id": "view-in-github",
        "colab_type": "text"
      },
      "source": [
        "<a href=\"https://colab.research.google.com/github/Jcowwell/CS361/blob/master/Python.ipynb\" target=\"_parent\"><img src=\"https://colab.research.google.com/assets/colab-badge.svg\" alt=\"Open In Colab\"/></a>"
      ]
    },
    {
      "metadata": {
        "id": "LcQytuFAufW0",
        "colab_type": "text"
      },
      "cell_type": "markdown",
      "source": [
        "# **EX 1**"
      ]
    },
    {
      "metadata": {
        "id": "zcr8thM-s6de",
        "colab_type": "code",
        "outputId": "a957eb45-ef96-47f5-c742-886d10f13995",
        "colab": {
          "base_uri": "https://localhost:8080/",
          "height": 34
        }
      },
      "cell_type": "code",
      "source": [
        "5/3"
      ],
      "execution_count": 0,
      "outputs": [
        {
          "output_type": "execute_result",
          "data": {
            "text/plain": [
              "1.6666666666666667"
            ]
          },
          "metadata": {
            "tags": []
          },
          "execution_count": 4
        }
      ]
    },
    {
      "metadata": {
        "id": "YnQDFMvhtEeM",
        "colab_type": "code",
        "outputId": "e71ebafd-2f53-43b1-80de-1fae55f0dd5f",
        "colab": {
          "base_uri": "https://localhost:8080/",
          "height": 34
        }
      },
      "cell_type": "code",
      "source": [
        "5 % 3"
      ],
      "execution_count": 0,
      "outputs": [
        {
          "output_type": "execute_result",
          "data": {
            "text/plain": [
              "2"
            ]
          },
          "metadata": {
            "tags": []
          },
          "execution_count": 5
        }
      ]
    },
    {
      "metadata": {
        "id": "y3OfUWXYtGoN",
        "colab_type": "code",
        "outputId": "950d6984-c10f-42df-eed2-9d21f3f3e8c2",
        "colab": {
          "base_uri": "https://localhost:8080/",
          "height": 34
        }
      },
      "cell_type": "code",
      "source": [
        "5.0/3"
      ],
      "execution_count": 0,
      "outputs": [
        {
          "output_type": "execute_result",
          "data": {
            "text/plain": [
              "1.6666666666666667"
            ]
          },
          "metadata": {
            "tags": []
          },
          "execution_count": 6
        }
      ]
    },
    {
      "metadata": {
        "id": "A0A4aaW4tJSO",
        "colab_type": "code",
        "outputId": "4a61ab6a-8336-4830-8749-1bd5c5fbdf21",
        "colab": {
          "base_uri": "https://localhost:8080/",
          "height": 34
        }
      },
      "cell_type": "code",
      "source": [
        "5/3.0"
      ],
      "execution_count": 0,
      "outputs": [
        {
          "output_type": "execute_result",
          "data": {
            "text/plain": [
              "1.6666666666666667"
            ]
          },
          "metadata": {
            "tags": []
          },
          "execution_count": 7
        }
      ]
    },
    {
      "metadata": {
        "id": "O4ESgSK6tMTF",
        "colab_type": "code",
        "outputId": "fd14fcd6-bc2b-4677-df48-898950fed329",
        "colab": {
          "base_uri": "https://localhost:8080/",
          "height": 34
        }
      },
      "cell_type": "code",
      "source": [
        "5.2%3"
      ],
      "execution_count": 0,
      "outputs": [
        {
          "output_type": "execute_result",
          "data": {
            "text/plain": [
              "2.2"
            ]
          },
          "metadata": {
            "tags": []
          },
          "execution_count": 8
        }
      ]
    },
    {
      "metadata": {
        "id": "7dg1a7K3ubwD",
        "colab_type": "text"
      },
      "cell_type": "markdown",
      "source": [
        "# EX 2"
      ]
    },
    {
      "metadata": {
        "id": "QyQHSpeRtRnG",
        "colab_type": "code",
        "outputId": "4aa34e05-5ab2-401f-bfc2-0288b36049b0",
        "colab": {
          "base_uri": "https://localhost:8080/",
          "height": 164
        }
      },
      "cell_type": "code",
      "source": [
        "2000.3 ** 200"
      ],
      "execution_count": 0,
      "outputs": [
        {
          "output_type": "error",
          "ename": "OverflowError",
          "evalue": "ignored",
          "traceback": [
            "\u001b[0;31m---------------------------------------------------------------------------\u001b[0m",
            "\u001b[0;31mOverflowError\u001b[0m                             Traceback (most recent call last)",
            "\u001b[0;32m<ipython-input-54-0e53818c35c3>\u001b[0m in \u001b[0;36m<module>\u001b[0;34m()\u001b[0m\n\u001b[0;32m----> 1\u001b[0;31m \u001b[0;36m2000.3\u001b[0m \u001b[0;34m**\u001b[0m \u001b[0;36m200\u001b[0m\u001b[0;34m\u001b[0m\u001b[0;34m\u001b[0m\u001b[0m\n\u001b[0m",
            "\u001b[0;31mOverflowError\u001b[0m: (34, 'Numerical result out of range')"
          ]
        }
      ]
    },
    {
      "metadata": {
        "id": "LNVC4bQ3tZkJ",
        "colab_type": "code",
        "outputId": "9fc181e0-24cf-495b-8514-8edd6f996141",
        "colab": {
          "base_uri": "https://localhost:8080/",
          "height": 34
        }
      },
      "cell_type": "code",
      "source": [
        "1.0 + 1.0 - 1.0"
      ],
      "execution_count": 0,
      "outputs": [
        {
          "output_type": "execute_result",
          "data": {
            "text/plain": [
              "1.0"
            ]
          },
          "metadata": {
            "tags": []
          },
          "execution_count": 10
        }
      ]
    },
    {
      "metadata": {
        "id": "vjKcDrG7tcsc",
        "colab_type": "code",
        "outputId": "635cb0ce-c821-46bf-d1d5-01543376d3af",
        "colab": {
          "base_uri": "https://localhost:8080/",
          "height": 34
        }
      },
      "cell_type": "code",
      "source": [
        "1.0 + 1.0e20 - 1.0e20"
      ],
      "execution_count": 0,
      "outputs": [
        {
          "output_type": "execute_result",
          "data": {
            "text/plain": [
              "0.0"
            ]
          },
          "metadata": {
            "tags": []
          },
          "execution_count": 11
        }
      ]
    },
    {
      "metadata": {
        "id": "N0DIg24duUMH",
        "colab_type": "text"
      },
      "cell_type": "markdown",
      "source": [
        "# EX 3"
      ]
    },
    {
      "metadata": {
        "id": "zp69QYFttnpK",
        "colab_type": "code",
        "outputId": "fc178085-2195-4f44-8fbf-19a90cbf6df1",
        "colab": {
          "base_uri": "https://localhost:8080/",
          "height": 34
        }
      },
      "cell_type": "code",
      "source": [
        "float(123)"
      ],
      "execution_count": 0,
      "outputs": [
        {
          "output_type": "execute_result",
          "data": {
            "text/plain": [
              "123.0"
            ]
          },
          "metadata": {
            "tags": []
          },
          "execution_count": 13
        }
      ]
    },
    {
      "metadata": {
        "id": "HESlawJ1twjF",
        "colab_type": "code",
        "outputId": "549af2cf-75da-42c3-dc18-95c63c890bed",
        "colab": {
          "base_uri": "https://localhost:8080/",
          "height": 34
        }
      },
      "cell_type": "code",
      "source": [
        "float('123')"
      ],
      "execution_count": 0,
      "outputs": [
        {
          "output_type": "execute_result",
          "data": {
            "text/plain": [
              "123.0"
            ]
          },
          "metadata": {
            "tags": []
          },
          "execution_count": 14
        }
      ]
    },
    {
      "metadata": {
        "id": "4X_UUdfwtywY",
        "colab_type": "code",
        "outputId": "e4100a6d-84e4-4030-ef79-31a472ef1a01",
        "colab": {
          "base_uri": "https://localhost:8080/",
          "height": 34
        }
      },
      "cell_type": "code",
      "source": [
        "float('123.23')"
      ],
      "execution_count": 0,
      "outputs": [
        {
          "output_type": "execute_result",
          "data": {
            "text/plain": [
              "123.23"
            ]
          },
          "metadata": {
            "tags": []
          },
          "execution_count": 15
        }
      ]
    },
    {
      "metadata": {
        "id": "kLcs0Pxxt1Uf",
        "colab_type": "code",
        "outputId": "5f18e355-d35a-4644-83b3-2554af511389",
        "colab": {
          "base_uri": "https://localhost:8080/",
          "height": 34
        }
      },
      "cell_type": "code",
      "source": [
        "int(123.23)"
      ],
      "execution_count": 0,
      "outputs": [
        {
          "output_type": "execute_result",
          "data": {
            "text/plain": [
              "123"
            ]
          },
          "metadata": {
            "tags": []
          },
          "execution_count": 16
        }
      ]
    },
    {
      "metadata": {
        "id": "f5cioRXTt5WV",
        "colab_type": "code",
        "outputId": "6e6dfb6b-a230-4a58-f555-9bb00b0284f7",
        "colab": {
          "base_uri": "https://localhost:8080/",
          "height": 204
        }
      },
      "cell_type": "code",
      "source": [
        "int('123.23')"
      ],
      "execution_count": 0,
      "outputs": [
        {
          "output_type": "error",
          "ename": "ValueError",
          "evalue": "ignored",
          "traceback": [
            "\u001b[0;31m---------------------------------------------------------------------------\u001b[0m",
            "\u001b[0;31mValueError\u001b[0m                                Traceback (most recent call last)",
            "\u001b[0;32m<ipython-input-17-a052266f23da>\u001b[0m in \u001b[0;36m<module>\u001b[0;34m()\u001b[0m\n\u001b[0;32m----> 1\u001b[0;31m \u001b[0mint\u001b[0m\u001b[0;34m(\u001b[0m\u001b[0;34m'123.23'\u001b[0m\u001b[0;34m)\u001b[0m\u001b[0;34m\u001b[0m\u001b[0;34m\u001b[0m\u001b[0m\n\u001b[0m",
            "\u001b[0;31mValueError\u001b[0m: invalid literal for int() with base 10: '123.23'"
          ]
        }
      ]
    },
    {
      "metadata": {
        "id": "dMih2mGHt7pD",
        "colab_type": "code",
        "outputId": "6d968d7a-8f3b-4cac-96a2-d57359d5d023",
        "colab": {
          "base_uri": "https://localhost:8080/",
          "height": 34
        }
      },
      "cell_type": "code",
      "source": [
        "int(float('123.23'))"
      ],
      "execution_count": 0,
      "outputs": [
        {
          "output_type": "execute_result",
          "data": {
            "text/plain": [
              "123"
            ]
          },
          "metadata": {
            "tags": []
          },
          "execution_count": 18
        }
      ]
    },
    {
      "metadata": {
        "id": "TZf-HD95t-UI",
        "colab_type": "code",
        "outputId": "2e27a4b1-4e7e-4808-ea86-7eac96570f55",
        "colab": {
          "base_uri": "https://localhost:8080/",
          "height": 34
        }
      },
      "cell_type": "code",
      "source": [
        "str(12)"
      ],
      "execution_count": 0,
      "outputs": [
        {
          "output_type": "execute_result",
          "data": {
            "text/plain": [
              "'12'"
            ]
          },
          "metadata": {
            "tags": []
          },
          "execution_count": 19
        }
      ]
    },
    {
      "metadata": {
        "id": "pphzeZP1t_i8",
        "colab_type": "code",
        "outputId": "5ec62dd8-53c5-4548-b913-1c71871656dc",
        "colab": {
          "base_uri": "https://localhost:8080/",
          "height": 34
        }
      },
      "cell_type": "code",
      "source": [
        "str(12.2)"
      ],
      "execution_count": 0,
      "outputs": [
        {
          "output_type": "execute_result",
          "data": {
            "text/plain": [
              "'12.2'"
            ]
          },
          "metadata": {
            "tags": []
          },
          "execution_count": 20
        }
      ]
    },
    {
      "metadata": {
        "id": "MTTTAl_MuBc9",
        "colab_type": "code",
        "outputId": "21ccd485-3a82-47ca-d1d6-81ff215f3b58",
        "colab": {
          "base_uri": "https://localhost:8080/",
          "height": 34
        }
      },
      "cell_type": "code",
      "source": [
        "bool('a')"
      ],
      "execution_count": 0,
      "outputs": [
        {
          "output_type": "execute_result",
          "data": {
            "text/plain": [
              "True"
            ]
          },
          "metadata": {
            "tags": []
          },
          "execution_count": 21
        }
      ]
    },
    {
      "metadata": {
        "id": "4h9ZGDzduDF6",
        "colab_type": "code",
        "outputId": "097850b3-33c6-4b2a-e371-3e73dc2bf633",
        "colab": {
          "base_uri": "https://localhost:8080/",
          "height": 34
        }
      },
      "cell_type": "code",
      "source": [
        "bool(0)"
      ],
      "execution_count": 0,
      "outputs": [
        {
          "output_type": "execute_result",
          "data": {
            "text/plain": [
              "False"
            ]
          },
          "metadata": {
            "tags": []
          },
          "execution_count": 22
        }
      ]
    },
    {
      "metadata": {
        "id": "tfLXLG_ouEZp",
        "colab_type": "code",
        "outputId": "cf1103b8-2d3b-4153-e40b-e0637c49ebdf",
        "colab": {
          "base_uri": "https://localhost:8080/",
          "height": 34
        }
      },
      "cell_type": "code",
      "source": [
        "bool(0.1)"
      ],
      "execution_count": 0,
      "outputs": [
        {
          "output_type": "execute_result",
          "data": {
            "text/plain": [
              "True"
            ]
          },
          "metadata": {
            "tags": []
          },
          "execution_count": 23
        }
      ]
    },
    {
      "metadata": {
        "id": "gQOvwpPZuQ1J",
        "colab_type": "text"
      },
      "cell_type": "markdown",
      "source": [
        "# **EX 4**"
      ]
    },
    {
      "metadata": {
        "id": "o4vOPJn1uMp_",
        "colab_type": "code",
        "outputId": "69f7fc0d-b55a-442d-d41a-393c3c8c3390",
        "colab": {
          "base_uri": "https://localhost:8080/",
          "height": 34
        }
      },
      "cell_type": "code",
      "source": [
        "range(5)"
      ],
      "execution_count": 0,
      "outputs": [
        {
          "output_type": "execute_result",
          "data": {
            "text/plain": [
              "range(0, 5)"
            ]
          },
          "metadata": {
            "tags": []
          },
          "execution_count": 24
        }
      ]
    },
    {
      "metadata": {
        "id": "492I0KEuu1o3",
        "colab_type": "code",
        "outputId": "f372a9f4-bd0f-492c-a87c-dd5102930935",
        "colab": {
          "base_uri": "https://localhost:8080/",
          "height": 34
        }
      },
      "cell_type": "code",
      "source": [
        "i in range(5)"
      ],
      "execution_count": 0,
      "outputs": [
        {
          "output_type": "execute_result",
          "data": {
            "text/plain": [
              "True"
            ]
          },
          "metadata": {
            "tags": []
          },
          "execution_count": 35
        }
      ]
    },
    {
      "metadata": {
        "id": "GDAdTEWgu6OK",
        "colab_type": "code",
        "outputId": "5cfcb42c-c416-4b21-f7b9-60c7e47375cf",
        "colab": {
          "base_uri": "https://localhost:8080/",
          "height": 34
        }
      },
      "cell_type": "code",
      "source": [
        "type(range(5))"
      ],
      "execution_count": 0,
      "outputs": [
        {
          "output_type": "execute_result",
          "data": {
            "text/plain": [
              "range"
            ]
          },
          "metadata": {
            "tags": []
          },
          "execution_count": 36
        }
      ]
    },
    {
      "metadata": {
        "id": "WxVP3qXFw2dM",
        "colab_type": "text"
      },
      "cell_type": "markdown",
      "source": [
        "# EX 5"
      ]
    },
    {
      "metadata": {
        "id": "e13kc7Psw2IZ",
        "colab_type": "text"
      },
      "cell_type": "markdown",
      "source": [
        ""
      ]
    },
    {
      "metadata": {
        "id": "2gFhF1LJuORx",
        "colab_type": "code",
        "outputId": "640a9914-8fef-4b93-e736-339621152493",
        "colab": {
          "base_uri": "https://localhost:8080/",
          "height": 357
        }
      },
      "cell_type": "code",
      "source": [
        "number_found = 0\n",
        "x = 11 \n",
        "while number_found < 20:\n",
        "  if x % 5 == 0 and x % 7 == 0 and x % 11 == 0:\n",
        "    print(x)\n",
        "    number_found += 1\n",
        "  x+=1\n",
        "  "
      ],
      "execution_count": 0,
      "outputs": [
        {
          "output_type": "stream",
          "text": [
            "385\n",
            "770\n",
            "1155\n",
            "1540\n",
            "1925\n",
            "2310\n",
            "2695\n",
            "3080\n",
            "3465\n",
            "3850\n",
            "4235\n",
            "4620\n",
            "5005\n",
            "5390\n",
            "5775\n",
            "6160\n",
            "6545\n",
            "6930\n",
            "7315\n",
            "7700\n"
          ],
          "name": "stdout"
        }
      ]
    },
    {
      "metadata": {
        "id": "oOvAGP2yyw3m",
        "colab_type": "text"
      },
      "cell_type": "markdown",
      "source": [
        "# EX6"
      ]
    },
    {
      "metadata": {
        "id": "G9GLjhvtywZV",
        "colab_type": "code",
        "colab": {}
      },
      "cell_type": "code",
      "source": [
        "# Taken from: https://stackoverflow.com/questions/15285534/isprime-function-for-python-language for optimization purposes\n",
        "def is_prime(n):\n",
        "    if n==2 or n==3: return True\n",
        "    if n%2==0 or n<2: return False\n",
        "    for i in range(3,int(n**0.5)+1,2):   \n",
        "        if n%i==0:\n",
        "            return False    \n",
        "\n",
        "    return True\n",
        "  \n",
        "  "
      ],
      "execution_count": 0,
      "outputs": []
    },
    {
      "metadata": {
        "id": "WJPRS3A43RUi",
        "colab_type": "code",
        "outputId": "6afaf563-210d-426a-de13-907f08d7c701",
        "colab": {
          "base_uri": "https://localhost:8080/",
          "height": 85
        }
      },
      "cell_type": "code",
      "source": [
        "# Taken from: https://stackoverflow.com/questions/15285534/isprime-function-for-python-language for optimization purposes\n",
        "def is_prime(n):\n",
        "    if n==2 or n==3: return True\n",
        "    if n%2==0 or n<2: return False\n",
        "    for i in range(3,int(n**0.5)+1,2):   \n",
        "        if n%i==0:\n",
        "            return False    \n",
        "    return True\n",
        "\n",
        "def prime_spitter(n):\n",
        "  while n > 0:\n",
        "    if is_prime(n):\n",
        "      print(n)\n",
        "      n-=1\n",
        "    else: n-=1\n",
        "      \n",
        "prime_spitter(7)    "
      ],
      "execution_count": 0,
      "outputs": [
        {
          "output_type": "stream",
          "text": [
            "7\n",
            "5\n",
            "3\n",
            "2\n"
          ],
          "name": "stdout"
        }
      ]
    },
    {
      "metadata": {
        "id": "45IbiFk75HL0",
        "colab_type": "code",
        "outputId": "46f1ce50-2101-4cbc-9fae-7d8992173f05",
        "colab": {
          "base_uri": "https://localhost:8080/",
          "height": 136
        }
      },
      "cell_type": "code",
      "source": [
        "# Taken from: https://stackoverflow.com/questions/15285534/isprime-function-for-python-language for optimization purposes\n",
        "def is_prime(n):\n",
        "    if n==2 or n==3: return True\n",
        "    if n%2==0 or n<2: return False\n",
        "    for i in range(3,int(n**0.5)+1,2):   \n",
        "        if n%i==0:\n",
        "            return False    \n",
        "    return True\n",
        "\n",
        "def prime_spitter2(n):\n",
        "  counted = 0;\n",
        "  x = 2\n",
        "  while counted < n:\n",
        "    if is_prime(x):\n",
        "      counted+=1\n",
        "      print(x)\n",
        "      x+=1\n",
        "    else: x+=1\n",
        "      \n",
        "prime_spitter2(7) "
      ],
      "execution_count": 0,
      "outputs": [
        {
          "output_type": "stream",
          "text": [
            "2\n",
            "3\n",
            "5\n",
            "7\n",
            "11\n",
            "13\n",
            "17\n"
          ],
          "name": "stdout"
        }
      ]
    },
    {
      "metadata": {
        "id": "UDA7lFkr5Gib",
        "colab_type": "text"
      },
      "cell_type": "markdown",
      "source": [
        ""
      ]
    },
    {
      "metadata": {
        "id": "_t2A6w2i5Jtm",
        "colab_type": "text"
      },
      "cell_type": "markdown",
      "source": [
        "# EX7"
      ]
    },
    {
      "metadata": {
        "id": "tY9OKzE_41mb",
        "colab_type": "code",
        "outputId": "ce47f6f5-3026-4547-e198-2bf444bcc33f",
        "colab": {
          "base_uri": "https://localhost:8080/",
          "height": 68
        }
      },
      "cell_type": "code",
      "source": [
        "def list_printer(n):\n",
        "  for i in n:\n",
        "    print(i)\n",
        "    \n",
        "list_printer([1,2,3])"
      ],
      "execution_count": 0,
      "outputs": [
        {
          "output_type": "stream",
          "text": [
            "1\n",
            "2\n",
            "3\n"
          ],
          "name": "stdout"
        }
      ]
    },
    {
      "metadata": {
        "id": "Rqm3Zuic55V4",
        "colab_type": "code",
        "outputId": "cb651178-58b7-42c0-de93-d40569e0b303",
        "colab": {
          "base_uri": "https://localhost:8080/",
          "height": 68
        }
      },
      "cell_type": "code",
      "source": [
        "def list_printer(n):\n",
        "  n.reverse()\n",
        "  for i in n:\n",
        "    print(i)\n",
        "    \n",
        "list_printer([1,2,3])"
      ],
      "execution_count": 0,
      "outputs": [
        {
          "output_type": "stream",
          "text": [
            "3\n",
            "2\n",
            "1\n"
          ],
          "name": "stdout"
        }
      ]
    },
    {
      "metadata": {
        "id": "e9NV_eiF6WFe",
        "colab_type": "code",
        "outputId": "64e2938a-a8dd-4982-e857-e1f595b5e255",
        "colab": {
          "base_uri": "https://localhost:8080/",
          "height": 34
        }
      },
      "cell_type": "code",
      "source": [
        "def list_size(n):\n",
        "  counter = 0\n",
        "  for i in n:\n",
        "    counter+=1\n",
        "  return counter\n",
        "print(list_size([1,2,3,4]))"
      ],
      "execution_count": 0,
      "outputs": [
        {
          "output_type": "stream",
          "text": [
            "4\n"
          ],
          "name": "stdout"
        }
      ]
    },
    {
      "metadata": {
        "id": "BPMCvmnM6u-p",
        "colab_type": "text"
      },
      "cell_type": "markdown",
      "source": [
        "# EX8"
      ]
    },
    {
      "metadata": {
        "id": "IcSUTJ_r6yDx",
        "colab_type": "code",
        "outputId": "4d30f4fe-a573-4196-bfc6-7a4194468804",
        "colab": {
          "base_uri": "https://localhost:8080/",
          "height": 68
        }
      },
      "cell_type": "code",
      "source": [
        "a = [\"a\",\"b\",\"c\"]\n",
        "b = a\n",
        "b[1] = \"d\"\n",
        "print(b[1])\n",
        "c = a[:]\n",
        "c[2] = \"e\"\n",
        "print(c)"
      ],
      "execution_count": 0,
      "outputs": [
        {
          "output_type": "stream",
          "text": [
            "d\n",
            "d\n",
            "['a', 'd', 'e']\n"
          ],
          "name": "stdout"
        }
      ]
    },
    {
      "metadata": {
        "id": "E5nc3VMs7ZoI",
        "colab_type": "code",
        "outputId": "c3fb0b38-2aad-47d0-bdfa-823ce7e839ca",
        "colab": {
          "base_uri": "https://localhost:8080/",
          "height": 34
        }
      },
      "cell_type": "code",
      "source": [
        "def set_first_lem_to_zero(a):\n",
        "  a[0] = 0\n",
        "  return a\n",
        "a = [\"a\",\"b\",\"c\"]\n",
        "set_first_lem_to_zero(a)\n",
        "print(a)"
      ],
      "execution_count": 0,
      "outputs": [
        {
          "output_type": "stream",
          "text": [
            "[0, 'b', 'c']\n"
          ],
          "name": "stdout"
        }
      ]
    },
    {
      "metadata": {
        "id": "7m03ILEN8Dws",
        "colab_type": "text"
      },
      "cell_type": "markdown",
      "source": [
        "# EX9"
      ]
    },
    {
      "metadata": {
        "id": "iKO7c30t7CQc",
        "colab_type": "code",
        "colab": {}
      },
      "cell_type": "code",
      "source": [
        ""
      ],
      "execution_count": 0,
      "outputs": []
    },
    {
      "metadata": {
        "id": "QfkQqnDm8Gk0",
        "colab_type": "code",
        "outputId": "43494457-b10a-4f34-c9be-068aee03711e",
        "colab": {
          "base_uri": "https://localhost:8080/",
          "height": 34
        }
      },
      "cell_type": "code",
      "source": [
        "def list_maker(a):\n",
        "  b = []\n",
        "  for i in a:\n",
        "    for x in i:\n",
        "      b.append(x)\n",
        "  return b;\n",
        "\n",
        "list_maker([[1,3],[3,6]])"
      ],
      "execution_count": 0,
      "outputs": [
        {
          "output_type": "execute_result",
          "data": {
            "text/plain": [
              "[1, 3, 3, 6]"
            ]
          },
          "metadata": {
            "tags": []
          },
          "execution_count": 109
        }
      ]
    },
    {
      "metadata": {
        "id": "GqYeZSyV9OAq",
        "colab_type": "text"
      },
      "cell_type": "markdown",
      "source": [
        "# EX10"
      ]
    },
    {
      "metadata": {
        "id": "7BW5tKKC9RoR",
        "colab_type": "code",
        "outputId": "d9bd5f08-6685-4a9d-f072-a90b1f2b7769",
        "colab": {
          "base_uri": "https://localhost:8080/",
          "height": 376
        }
      },
      "cell_type": "code",
      "source": [
        "import matplotlib.pyplot as plt\n",
        "import numpy as np\n",
        "\n",
        "# def do(x):\n",
        "x = np.arange(0,2,0.1)   # start,stop,step\n",
        "y = np.sin(x)**2 * np.power(np.e,np.power(-x,2))\n",
        "  \n",
        "plt.plot(x,y, color='red', linewidth =3)\n",
        "plt.title(\"Sine Graph\")\n",
        "plt.xlabel('x values from 0 to 2')\n",
        "plt.ylabel('sin^2(x - 2) e^(-x^2)')\n",
        "plt.show()\n"
      ],
      "execution_count": 0,
      "outputs": [
        {
          "output_type": "display_data",
          "data": {
            "image/png": "[encoded data removed]",
            "text/plain": [
              "<matplotlib.figure.Figure at 0x7f75bad987b8>"
            ]
          },
          "metadata": {
            "tags": []
          }
        }
      ]
    },
    {
      "metadata": {
        "id": "QFpF0bRfOWyW",
        "colab_type": "text"
      },
      "cell_type": "markdown",
      "source": [
        "# EX11"
      ]
    },
    {
      "metadata": {
        "id": "IirDqjOvOP97",
        "colab_type": "code",
        "outputId": "7a5d200c-c4d9-4cdd-ac4e-64a5d4676da2",
        "colab": {
          "base_uri": "https://localhost:8080/",
          "height": 34
        }
      },
      "cell_type": "code",
      "source": [
        "def iteration(x):\n",
        "  z = 1;\n",
        "  for y in x:\n",
        "    z *=y\n",
        "  return z\n",
        "    \n",
        "iteration([1,2,3,4,5])"
      ],
      "execution_count": 0,
      "outputs": [
        {
          "output_type": "execute_result",
          "data": {
            "text/plain": [
              "120"
            ]
          },
          "metadata": {
            "tags": []
          },
          "execution_count": 170
        }
      ]
    },
    {
      "metadata": {
        "id": "iZ5-oNbgO2pg",
        "colab_type": "code",
        "outputId": "b5550f3b-c50a-4efe-fdb6-d4aaea80f1bc",
        "colab": {
          "base_uri": "https://localhost:8080/",
          "height": 34
        }
      },
      "cell_type": "code",
      "source": [
        "def recursive(x):\n",
        "  \n",
        "  if (len(x)==1): \n",
        "    return x[0]\n",
        "  else: \n",
        "    return recursive([x[0]]) * recursive(x[1:])\n",
        "  \n",
        "recursive([1,2,3,4,5])"
      ],
      "execution_count": 0,
      "outputs": [
        {
          "output_type": "execute_result",
          "data": {
            "text/plain": [
              "120"
            ]
          },
          "metadata": {
            "tags": []
          },
          "execution_count": 189
        }
      ]
    },
    {
      "metadata": {
        "id": "nQU3RQuzWMFT",
        "colab_type": "text"
      },
      "cell_type": "markdown",
      "source": [
        "# EX12"
      ]
    },
    {
      "metadata": {
        "id": "qoXQOIN7WF7k",
        "colab_type": "code",
        "outputId": "36895760-85ae-4240-e3f4-f898c7703e3e",
        "colab": {
          "base_uri": "https://localhost:8080/",
          "height": 34
        }
      },
      "cell_type": "code",
      "source": [
        "def Fib(n):\n",
        "\n",
        "    if(n==0):\n",
        "        return 0\n",
        "    elif(n==1 or n==2):\n",
        "        return 1\n",
        "    else:\n",
        "        return Fib(n-1) + Fib(n-2)\n",
        "      \n",
        "Fib(14)    "
      ],
      "execution_count": 0,
      "outputs": [
        {
          "output_type": "execute_result",
          "data": {
            "text/plain": [
              "377"
            ]
          },
          "metadata": {
            "tags": []
          },
          "execution_count": 194
        }
      ]
    },
    {
      "metadata": {
        "id": "kPSNDodZbKHl",
        "colab_type": "text"
      },
      "cell_type": "markdown",
      "source": [
        "# EX13"
      ]
    },
    {
      "metadata": {
        "id": "hW1_ZplAbL8f",
        "colab_type": "code",
        "outputId": "1f1576e0-b0fd-4cef-83de-25c763dbfbf1",
        "colab": {
          "base_uri": "https://localhost:8080/",
          "height": 232
        }
      },
      "cell_type": "code",
      "source": [
        "import re\n",
        "file  = open(\"email.txt\", \"r\")\n",
        "for line in file:\n",
        "#   No Specification if regex should find only valid email addresses so I found them all\n",
        "    match = re.search('[\"a-zA-Z.]*[a-zA-Z]?@[a-zA-Z.',]+[a-zA-Z]$*',line)\n",
        "    if match:\n",
        "        print (match.group())"
      ],
      "execution_count": 0,
      "outputs": [
        {
          "output_type": "error",
          "ename": "FileNotFoundError",
          "evalue": "ignored",
          "traceback": [
            "\u001b[0;31m---------------------------------------------------------------------------\u001b[0m",
            "\u001b[0;31mFileNotFoundError\u001b[0m                         Traceback (most recent call last)",
            "\u001b[0;32m<ipython-input-196-27b0be6192f9>\u001b[0m in \u001b[0;36m<module>\u001b[0;34m()\u001b[0m\n\u001b[1;32m      1\u001b[0m \u001b[0;32mimport\u001b[0m \u001b[0mre\u001b[0m\u001b[0;34m\u001b[0m\u001b[0;34m\u001b[0m\u001b[0m\n\u001b[0;32m----> 2\u001b[0;31m \u001b[0mfile\u001b[0m  \u001b[0;34m=\u001b[0m \u001b[0mopen\u001b[0m\u001b[0;34m(\u001b[0m\u001b[0;34m\"email.txt\"\u001b[0m\u001b[0;34m,\u001b[0m \u001b[0;34m\"r\"\u001b[0m\u001b[0;34m)\u001b[0m\u001b[0;34m\u001b[0m\u001b[0;34m\u001b[0m\u001b[0m\n\u001b[0m\u001b[1;32m      3\u001b[0m \u001b[0;32mfor\u001b[0m \u001b[0mline\u001b[0m \u001b[0;32min\u001b[0m \u001b[0mfile\u001b[0m\u001b[0;34m:\u001b[0m\u001b[0;34m\u001b[0m\u001b[0;34m\u001b[0m\u001b[0m\n\u001b[1;32m      4\u001b[0m     \u001b[0mmatch\u001b[0m \u001b[0;34m=\u001b[0m \u001b[0mre\u001b[0m\u001b[0;34m.\u001b[0m\u001b[0msearch\u001b[0m\u001b[0;34m(\u001b[0m\u001b[0;34m'[a-zA-Z.]*[a-zA-Z]*@[a-zA-Z]*\\.[.a-zA-Z]*'\u001b[0m\u001b[0;34m,\u001b[0m\u001b[0mline\u001b[0m\u001b[0;34m)\u001b[0m\u001b[0;34m\u001b[0m\u001b[0;34m\u001b[0m\u001b[0m\n\u001b[1;32m      5\u001b[0m     \u001b[0;32mif\u001b[0m \u001b[0mmatch\u001b[0m\u001b[0;34m:\u001b[0m\u001b[0;34m\u001b[0m\u001b[0;34m\u001b[0m\u001b[0m\n",
            "\u001b[0;31mFileNotFoundError\u001b[0m: [Errno 2] No such file or directory: 'email.txt'"
          ]
        }
      ]
    }
  ]
}